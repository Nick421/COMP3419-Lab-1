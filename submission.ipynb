{
 "cells": [
  {
   "cell_type": "code",
   "execution_count": 1,
   "metadata": {},
   "outputs": [],
   "source": [
    "# Package required and global variable declaration\n",
    "import numpy as np\n",
    "import cv2\n",
    "import os\n",
    "import sys\n",
    "import math\n",
    "\n",
    "frame_save_path = './frames/'\n",
    "outputframe_save_path = './Boundoutputframes/'\n",
    "diffoutputframe_save_path = './diffoutputframes/'\n",
    "path_to_video = './monkey.mov'\n",
    "path_to_output_video = './BoundMonkey.mov'\n",
    "\n",
    "grid_size = 9\n",
    "radius = 3\n",
    "\n",
    "h = 0\n",
    "w = 0\n",
    "\n",
    "v0 = 120\n",
    "v1 = 150\n",
    "\n",
    "withBoundaryOption = True"
   ]
  },
  {
   "cell_type": "code",
   "execution_count": 2,
   "metadata": {},
   "outputs": [],
   "source": [
    "def ssd(a, b):\n",
    "    #check underflow\n",
    "    return np.sqrt(np.sum((np.power((a-b),2))))"
   ]
  },
  {
   "cell_type": "code",
   "execution_count": 3,
   "metadata": {},
   "outputs": [],
   "source": [
    "def create_dir_if_not_exists(directory):\n",
    "    if not os.path.exists(directory):\n",
    "        os.makedirs(directory)"
   ]
  },
  {
   "cell_type": "code",
   "execution_count": 4,
   "metadata": {},
   "outputs": [],
   "source": [
    "def calc(frame1 , frame2, index):\n",
    "    for y1 in range(h):\n",
    "        #print(\"in y1\", y1)\n",
    "        i = y1*grid_size\n",
    "        for x1 in range(w):\n",
    "            #print(\"in x1\")\n",
    "            \n",
    "            j = x1*grid_size\n",
    "            block1 = frame1[i:i+grid_size, j:j+grid_size,:]\n",
    "            \n",
    "            radius_hood = []\n",
    "            \n",
    "            for y2 in range(y1-radius,y1+radius+1):\n",
    "                    #print(\"in y2 \",y2)\n",
    "                    i2 = y2*grid_size\n",
    "                    if not (0 <= y2 < h):\n",
    "                        continue\n",
    "                    \n",
    "                    for x2 in range(x1-radius,x1+radius+1):\n",
    "                        #print(\"in x2 \",y2)\n",
    "                        j2 = x2*grid_size\n",
    "                        if not (0 <= x2 < w):\n",
    "                            continue\n",
    "                        \n",
    "                        block2 = frame2[i2:i2+grid_size, j2:j2+grid_size,:]\n",
    "\n",
    "                        # find SSD of current frame and neighbour in radius\n",
    "                        ssd_current = ssd(block1, block2)\n",
    "                        #print(ssd_current)\n",
    "                        #print(\"before append \",radius_hood)\n",
    "                        radius_hood.append((ssd_current, x2, y2))\n",
    "                        #print(\"after append \",radius_hood)\n",
    "                        \n",
    "            #takes the neigbour that has closet SSD\n",
    "            #print(\"before finding min\",radius_hood)\n",
    "            ssdmin = min(radius_hood)\n",
    "            #print(\"min ssd\", ssdmin)\n",
    "            if (v0 < ssdmin[0] < v1):\n",
    "                #print(\"sdd: \",ssdmin[0],\" x1: \",i,\" y1: \",j,\" x2: \",ssdmin[1],\" y2: \",ssdmin[2] )\n",
    "                if (withBoundaryOption == True):\n",
    "                    diff = cv2.imread(diffoutputframe_save_path + 'frame%d.tif' %(index+1))\n",
    "                    drawBound(diff,frame2)\n",
    "                    \n",
    "                arrow(frame2,x1,y1,ssdmin[1],ssdmin[2])\n",
    "    \n",
    "    \n",
    "    cv2.imwrite(outputframe_save_path + 'frame%d.tif' %index, frame2)"
   ]
  },
  {
   "cell_type": "code",
   "execution_count": 5,
   "metadata": {},
   "outputs": [],
   "source": [
    "def difference(dilate, thres,index):\n",
    "    diff = np.subtract(dilate,thres)\n",
    "    cv2.imwrite(diffoutputframe_save_path + 'frame%d.tif' %index, diff)"
   ]
  },
  {
   "cell_type": "code",
   "execution_count": 6,
   "metadata": {},
   "outputs": [],
   "source": [
    "def drawBound(diff,og):\n",
    "    for y in range(diff.shape[0]):\n",
    "        for x in range(diff.shape[1]):\n",
    "            #print(diff[y][x])\n",
    "            if np.any(diff[y][x] == 255.0):\n",
    "                #cv2.circle(og,(x,y), 2, (0,255,0), 1)\n",
    "                og[y,x] = [0,255,0]"
   ]
  },
  {
   "cell_type": "code",
   "execution_count": 7,
   "metadata": {},
   "outputs": [],
   "source": [
    "def toBinary(frame):\n",
    "    img_grey = frame\n",
    "    img_new_grey = 0.212671* frame[:,:,2] + 0.715160* frame[:,:,0] + 0.072169* frame[:,:,1]\n",
    "    img_grey[:,:,0] = img_new_grey\n",
    "    img_grey[:,:,1] = img_new_grey\n",
    "    img_grey[:,:,2] = img_new_grey\n",
    "    \n",
    "    return img_grey"
   ]
  },
  {
   "cell_type": "code",
   "execution_count": 8,
   "metadata": {},
   "outputs": [],
   "source": [
    "def arrow(frame, x1, y1, x2 ,y2):\n",
    "    \n",
    "    pt1 = (x1*grid_size,y1*grid_size)\n",
    "    pt2 = (x2*grid_size,y2*grid_size)\n",
    "    #bgr\n",
    "    cv2.arrowedLine(frame, pt1, pt2, (0,0,255), 2)"
   ]
  },
  {
   "cell_type": "code",
   "execution_count": 9,
   "metadata": {},
   "outputs": [],
   "source": [
    "def img_threshold(img_grey):\n",
    "    img_thres = ((img_grey > 100) + np.zeros(img_grey.shape)) * 255\n",
    "    return img_thres"
   ]
  },
  {
   "cell_type": "code",
   "execution_count": 10,
   "metadata": {},
   "outputs": [],
   "source": [
    "def dilateErode2D(img_in, kernel, type):\n",
    "\n",
    "    assert type == 'dilate' or type == 'erosion'\n",
    "    img = img_in[:,:,0]\n",
    "    final = np.zeros(img_in.shape)\n",
    "    newimg = np.copy(img)\n",
    "\n",
    "    kernelSize = kernel.shape[0]\n",
    "    radius = int(kernelSize / 2)\n",
    "\n",
    "    h, w  = img.shape\n",
    "    for x in range (radius, h-radius):\n",
    "        for y in range (radius, w-radius):\n",
    "            demo_array = img[x-radius: x+radius+1, y-radius: y+radius+1]\n",
    "            if type == 'dilate':\n",
    "                result = np.amax(demo_array * kernel)\n",
    "            else:\n",
    "                result = np.amin(demo_array * kernel)\n",
    "            newimg[x][y] = result\n",
    "\n",
    "    final[:, :, 0] = newimg\n",
    "    final[:, :, 1] = newimg\n",
    "    final[:, :, 2] = newimg\n",
    "\n",
    "    return final"
   ]
  },
  {
   "cell_type": "code",
   "execution_count": 11,
   "metadata": {},
   "outputs": [
    {
     "name": "stdout",
     "output_type": "stream",
     "text": [
      "Video Reach End\n"
     ]
    }
   ],
   "source": [
    "cap = cv2.VideoCapture(path_to_video)\n",
    "create_dir_if_not_exists(frame_save_path) # Or you can create it manully\n",
    "if not cap.isOpened():\n",
    "    print('{} not opened'.format(path_to_video))\n",
    "    sys.exit(1)\n",
    "\n",
    "frame_height = cap.get(cv2.CAP_PROP_FRAME_HEIGHT)\n",
    "frame_width = cap.get(cv2.CAP_PROP_FRAME_WIDTH)\n",
    "frame_counter = 0                                             # FRAME_COUNTER\n",
    "while(1):\n",
    "    return_flag, frame = cap.read()\n",
    "    if not return_flag:\n",
    "        print('Video Reach End')\n",
    "        break\n",
    "    # Main Content - Start\n",
    "    cv2.imwrite(frame_save_path + 'frame%d.tif' % frame_counter, frame)\n",
    "    frame_counter += 1\n",
    "    # Main Content - End\n",
    "cap.release()\n"
   ]
  },
  {
   "cell_type": "code",
   "execution_count": null,
   "metadata": {},
   "outputs": [],
   "source": [
    "#get dilated frames and threshold frames\n",
    "#and get difference frames stored it\n",
    "if (withBoundaryOption == True):\n",
    "    kernel = np.ones((3, 3), np.uint8)\n",
    "    index = 0\n",
    "    create_dir_if_not_exists(diffoutputframe_save_path)\n",
    "    while True:\n",
    "        frame = cv2.imread(frame_save_path + 'frame%d.tif' %index)\n",
    "        if frame is None:\n",
    "            break\n",
    "        img_grey = toBinary(frame)\n",
    "        img_thres = img_threshold(img_grey)\n",
    "        dilate = dilateErode2D(img_in=img_thres, kernel = kernel, type='dilate')\n",
    "        difference(dilate,img_thres,index)\n",
    "        index += 1"
   ]
  },
  {
   "cell_type": "code",
   "execution_count": 13,
   "metadata": {},
   "outputs": [
    {
     "name": "stdout",
     "output_type": "stream",
     "text": [
      "0\n",
      "1\n",
      "2\n",
      "3\n",
      "4\n",
      "5\n",
      "6\n",
      "7\n",
      "8\n",
      "9\n",
      "10\n",
      "11\n",
      "12\n",
      "13\n",
      "14\n",
      "15\n",
      "16\n",
      "17\n",
      "18\n",
      "19\n",
      "20\n",
      "21\n",
      "22\n",
      "23\n",
      "24\n",
      "25\n",
      "26\n",
      "27\n",
      "28\n",
      "29\n",
      "30\n",
      "31\n",
      "32\n",
      "33\n",
      "34\n",
      "35\n",
      "36\n",
      "37\n",
      "38\n",
      "39\n",
      "40\n",
      "41\n",
      "42\n",
      "43\n",
      "44\n",
      "45\n",
      "46\n",
      "47\n",
      "48\n",
      "49\n",
      "Finish!\n"
     ]
    }
   ],
   "source": [
    "#SSD\n",
    "h = int(frame_height//grid_size)\n",
    "w = int(frame_width//grid_size)\n",
    "#print(h)\n",
    "#print(w)\n",
    "index = 0\n",
    "create_dir_if_not_exists(outputframe_save_path)\n",
    "\n",
    "while index < 50:\n",
    "    \n",
    "    frame_1 = cv2.imread(frame_save_path + 'frame%d.tif' %index)\n",
    "    frame_2 = cv2.imread(frame_save_path + 'frame%d.tif' %(index+1))\n",
    "\n",
    "    if frame_1 is None or frame_2 is None:\n",
    "        break\n",
    "    calc(frame_1, frame_2,index)\n",
    "    print(index)\n",
    "    index += 1\n",
    "print('Finish!')"
   ]
  },
  {
   "cell_type": "code",
   "execution_count": 15,
   "metadata": {},
   "outputs": [
    {
     "name": "stdout",
     "output_type": "stream",
     "text": [
      "No more frames to be loaded\n"
     ]
    }
   ],
   "source": [
    "#merge export Video\n",
    "out = cv2.VideoWriter(path_to_output_video, cv2.VideoWriter_fourcc('M', 'J', 'P', 'G'), 10, (int(frame_width), int(frame_height)))\n",
    "frame_counter = 0\n",
    "while(1):\n",
    "    img = cv2.imread(outputframe_save_path + 'frame%d.tif' % frame_counter)\n",
    "    if img is None:\n",
    "        print('No more frames to be loaded')\n",
    "        break;\n",
    "    out.write(img)\n",
    "    #print(frame_counter)\n",
    "    frame_counter += 1\n",
    "out.release()\n",
    "cv2.destroyAllWindows()"
   ]
  }
 ],
 "metadata": {
  "kernelspec": {
   "display_name": "Python 3",
   "language": "python",
   "name": "python3"
  },
  "language_info": {
   "codemirror_mode": {
    "name": "ipython",
    "version": 3
   },
   "file_extension": ".py",
   "mimetype": "text/x-python",
   "name": "python",
   "nbconvert_exporter": "python",
   "pygments_lexer": "ipython3",
   "version": "3.6.5"
  }
 },
 "nbformat": 4,
 "nbformat_minor": 2
}
